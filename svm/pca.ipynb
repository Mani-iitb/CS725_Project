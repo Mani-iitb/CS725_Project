{
 "cells": [
  {
   "cell_type": "code",
   "execution_count": 127,
   "metadata": {},
   "outputs": [
    {
     "name": "stdout",
     "output_type": "stream",
     "text": [
      "[9.76575015e+11 1.09164184e+09 5.02196226e+05 1.07664693e+05\n",
      " 9.57080423e+03 2.15483160e+03 8.53681315e+02 3.03660403e+01\n",
      " 7.23439527e+00 1.72168541e+00 5.97389699e-01 2.13030990e-01\n",
      " 5.36262295e-02 2.21002729e-02 2.06462102e-02 1.66680023e-02\n",
      " 1.64592485e-02 1.04052688e-02 9.20117601e-03 7.79131150e-03\n",
      " 5.26579626e-03 4.51813215e-03 2.41463854e-03 1.39563709e-03\n",
      " 1.08818113e-03 1.00438106e-03 9.03040494e-04 6.33016091e-04\n",
      " 3.89631914e-04 3.83895836e-04 2.39891318e-04 2.11878947e-04\n",
      " 1.32317251e-04 1.10497138e-04 9.09780731e-05 6.79967319e-05\n",
      " 4.05432565e-05 3.05250236e-05 2.74762144e-05 0.00000000e+00\n",
      " 0.00000000e+00]\n"
     ]
    }
   ],
   "source": [
    "import numpy as np\n",
    "import matplotlib.pyplot as plt\n",
    "import pandas as pd\n",
    "\n",
    "class PCA:\n",
    "    def __init__(self):\n",
    "        self.k_components=None\n",
    "        self.components=None\n",
    "        self.effect=None\n",
    "        self.mean=None\n",
    "    def fit(self,X):\n",
    "        # Calculate Mean\n",
    "        self.mean=np.mean(X,axis=0)\n",
    "        X=X - self.mean\n",
    "        #Covariance Matrix\n",
    "        covariance_matrix=np.cov(X.T)\n",
    "       \n",
    "        #Eigen Values and Eigen Vectors each column corresponds to eigen vector\n",
    "        eigen_values,eigen_vectors=np.linalg.eig(covariance_matrix)\n",
    "        #Sort Eigen Values\n",
    "        # eigen_vectors=eigen_vectors.T #now each row corresponds to eigen vector\n",
    "        idxs=np.argsort(eigen_values)[::-1]\n",
    "        #store first k eigen values\n",
    "        eigen_values=eigen_values[idxs]\n",
    "        eigen_vectors=eigen_vectors[:,idxs]\n",
    "        self.components=eigen_vectors\n",
    "        print(eigen_values)\n",
    "    def transform(self,X,k_componenet):\n",
    "        #Projecting Data to higher space\n",
    "        self.components=self.components[0:k_componenet]\n",
    "        X=X-self.mean\n",
    "        return np.dot(self.components,X.T)\n",
    "    pca=PCA()\n",
    "    pca.fit(X)\n"
   ]
  },
  {
   "cell_type": "code",
   "execution_count": 113,
   "metadata": {},
   "outputs": [
    {
     "data": {
      "text/plain": [
       "41"
      ]
     },
     "execution_count": 113,
     "metadata": {},
     "output_type": "execute_result"
    }
   ],
   "source": [
    "data=pd.read_csv(\"KDD10.csv\")\n",
    "data=data[data.columns[1:]]\n",
    "# categorical_colummns=['protocol_type','service','flag']\n",
    "data['outcome']=data['outcome'].replace(r'\\.','',regex=True).str.strip()\n",
    "# # #One hot encoding\n",
    "# data=pd.get_dummies(data,columns=categorical_colummns,dtype=int)\n",
    "#\n",
    "y=data[[\"outcome\"]]\n",
    "from sklearn.preprocessing import LabelEncoder\n",
    "def LabelEncoding(df):\n",
    "    for col in df.columns:\n",
    "        if df[col].dtype == 'object':\n",
    "                label_encoder = LabelEncoder()\n",
    "                df[col] = label_encoder.fit_transform(df[col])\n",
    "X=data.drop(\"outcome\",axis=1)\n",
    "LabelEncoding(X)\n",
    "len(X.columns.tolist())"
   ]
  },
  {
   "cell_type": "code",
   "execution_count": 122,
   "metadata": {},
   "outputs": [
    {
     "name": "stdout",
     "output_type": "stream",
     "text": [
      "[9.76575015e+11 1.09164184e+09 5.02196226e+05 1.07664693e+05\n",
      " 9.57080423e+03 2.15483160e+03 8.53681315e+02 3.03660403e+01\n",
      " 7.23439527e+00 1.72168541e+00 5.97389699e-01 2.13030990e-01\n",
      " 5.36262295e-02 2.21002729e-02 2.06462102e-02 1.66680023e-02\n",
      " 1.64592485e-02 1.04052688e-02 9.20117601e-03 7.79131150e-03\n",
      " 5.26579626e-03 4.51813215e-03 2.41463854e-03 1.39563709e-03\n",
      " 1.08818113e-03 1.00438106e-03 9.03040494e-04 6.33016091e-04\n",
      " 3.89631914e-04 3.83895836e-04 2.39891318e-04 2.11878947e-04\n",
      " 1.32317251e-04 1.10497138e-04 9.09780731e-05 6.79967319e-05\n",
      " 4.05432565e-05 3.05250236e-05 2.74762144e-05 0.00000000e+00\n",
      " 0.00000000e+00]\n"
     ]
    },
    {
     "ename": "KeyError",
     "evalue": "0",
     "output_type": "error",
     "traceback": [
      "\u001b[1;31m---------------------------------------------------------------------------\u001b[0m",
      "\u001b[1;31mKeyError\u001b[0m                                  Traceback (most recent call last)",
      "File \u001b[1;32m~\\AppData\\Roaming\\Python\\Python312\\site-packages\\pandas\\core\\indexes\\base.py:3805\u001b[0m, in \u001b[0;36mIndex.get_loc\u001b[1;34m(self, key)\u001b[0m\n\u001b[0;32m   3804\u001b[0m \u001b[38;5;28;01mtry\u001b[39;00m:\n\u001b[1;32m-> 3805\u001b[0m     \u001b[38;5;28;01mreturn\u001b[39;00m \u001b[38;5;28;43mself\u001b[39;49m\u001b[38;5;241;43m.\u001b[39;49m\u001b[43m_engine\u001b[49m\u001b[38;5;241;43m.\u001b[39;49m\u001b[43mget_loc\u001b[49m\u001b[43m(\u001b[49m\u001b[43mcasted_key\u001b[49m\u001b[43m)\u001b[49m\n\u001b[0;32m   3806\u001b[0m \u001b[38;5;28;01mexcept\u001b[39;00m \u001b[38;5;167;01mKeyError\u001b[39;00m \u001b[38;5;28;01mas\u001b[39;00m err:\n",
      "File \u001b[1;32mindex.pyx:167\u001b[0m, in \u001b[0;36mpandas._libs.index.IndexEngine.get_loc\u001b[1;34m()\u001b[0m\n",
      "File \u001b[1;32mindex.pyx:196\u001b[0m, in \u001b[0;36mpandas._libs.index.IndexEngine.get_loc\u001b[1;34m()\u001b[0m\n",
      "File \u001b[1;32mpandas\\\\_libs\\\\hashtable_class_helper.pxi:7081\u001b[0m, in \u001b[0;36mpandas._libs.hashtable.PyObjectHashTable.get_item\u001b[1;34m()\u001b[0m\n",
      "File \u001b[1;32mpandas\\\\_libs\\\\hashtable_class_helper.pxi:7089\u001b[0m, in \u001b[0;36mpandas._libs.hashtable.PyObjectHashTable.get_item\u001b[1;34m()\u001b[0m\n",
      "\u001b[1;31mKeyError\u001b[0m: 0",
      "\nThe above exception was the direct cause of the following exception:\n",
      "\u001b[1;31mKeyError\u001b[0m                                  Traceback (most recent call last)",
      "Cell \u001b[1;32mIn[122], line 4\u001b[0m\n\u001b[0;32m      2\u001b[0m pca\u001b[38;5;241m=\u001b[39mPCA()\n\u001b[0;32m      3\u001b[0m pca\u001b[38;5;241m.\u001b[39mfit(X)\n\u001b[1;32m----> 4\u001b[0m \u001b[43mpca\u001b[49m\u001b[38;5;241;43m.\u001b[39;49m\u001b[43mprint\u001b[49m\u001b[43m(\u001b[49m\u001b[43mX\u001b[49m\u001b[43m)\u001b[49m\n",
      "Cell \u001b[1;32mIn[121], line 35\u001b[0m, in \u001b[0;36mPCA.print\u001b[1;34m(self, X)\u001b[0m\n\u001b[0;32m     34\u001b[0m \u001b[38;5;28;01mdef\u001b[39;00m \u001b[38;5;21mprint\u001b[39m(\u001b[38;5;28mself\u001b[39m,X):\n\u001b[1;32m---> 35\u001b[0m     n\u001b[38;5;241m=\u001b[39m\u001b[38;5;28mlen\u001b[39m(\u001b[43mX\u001b[49m\u001b[43m[\u001b[49m\u001b[38;5;241;43m0\u001b[39;49m\u001b[43m]\u001b[49m)\n\u001b[0;32m     36\u001b[0m     x\u001b[38;5;241m=\u001b[39m[]\n\u001b[0;32m     37\u001b[0m     y\u001b[38;5;241m=\u001b[39m[]\n",
      "File \u001b[1;32m~\\AppData\\Roaming\\Python\\Python312\\site-packages\\pandas\\core\\frame.py:4102\u001b[0m, in \u001b[0;36mDataFrame.__getitem__\u001b[1;34m(self, key)\u001b[0m\n\u001b[0;32m   4100\u001b[0m \u001b[38;5;28;01mif\u001b[39;00m \u001b[38;5;28mself\u001b[39m\u001b[38;5;241m.\u001b[39mcolumns\u001b[38;5;241m.\u001b[39mnlevels \u001b[38;5;241m>\u001b[39m \u001b[38;5;241m1\u001b[39m:\n\u001b[0;32m   4101\u001b[0m     \u001b[38;5;28;01mreturn\u001b[39;00m \u001b[38;5;28mself\u001b[39m\u001b[38;5;241m.\u001b[39m_getitem_multilevel(key)\n\u001b[1;32m-> 4102\u001b[0m indexer \u001b[38;5;241m=\u001b[39m \u001b[38;5;28;43mself\u001b[39;49m\u001b[38;5;241;43m.\u001b[39;49m\u001b[43mcolumns\u001b[49m\u001b[38;5;241;43m.\u001b[39;49m\u001b[43mget_loc\u001b[49m\u001b[43m(\u001b[49m\u001b[43mkey\u001b[49m\u001b[43m)\u001b[49m\n\u001b[0;32m   4103\u001b[0m \u001b[38;5;28;01mif\u001b[39;00m is_integer(indexer):\n\u001b[0;32m   4104\u001b[0m     indexer \u001b[38;5;241m=\u001b[39m [indexer]\n",
      "File \u001b[1;32m~\\AppData\\Roaming\\Python\\Python312\\site-packages\\pandas\\core\\indexes\\base.py:3812\u001b[0m, in \u001b[0;36mIndex.get_loc\u001b[1;34m(self, key)\u001b[0m\n\u001b[0;32m   3807\u001b[0m     \u001b[38;5;28;01mif\u001b[39;00m \u001b[38;5;28misinstance\u001b[39m(casted_key, \u001b[38;5;28mslice\u001b[39m) \u001b[38;5;129;01mor\u001b[39;00m (\n\u001b[0;32m   3808\u001b[0m         \u001b[38;5;28misinstance\u001b[39m(casted_key, abc\u001b[38;5;241m.\u001b[39mIterable)\n\u001b[0;32m   3809\u001b[0m         \u001b[38;5;129;01mand\u001b[39;00m \u001b[38;5;28many\u001b[39m(\u001b[38;5;28misinstance\u001b[39m(x, \u001b[38;5;28mslice\u001b[39m) \u001b[38;5;28;01mfor\u001b[39;00m x \u001b[38;5;129;01min\u001b[39;00m casted_key)\n\u001b[0;32m   3810\u001b[0m     ):\n\u001b[0;32m   3811\u001b[0m         \u001b[38;5;28;01mraise\u001b[39;00m InvalidIndexError(key)\n\u001b[1;32m-> 3812\u001b[0m     \u001b[38;5;28;01mraise\u001b[39;00m \u001b[38;5;167;01mKeyError\u001b[39;00m(key) \u001b[38;5;28;01mfrom\u001b[39;00m \u001b[38;5;21;01merr\u001b[39;00m\n\u001b[0;32m   3813\u001b[0m \u001b[38;5;28;01mexcept\u001b[39;00m \u001b[38;5;167;01mTypeError\u001b[39;00m:\n\u001b[0;32m   3814\u001b[0m     \u001b[38;5;66;03m# If we have a listlike key, _check_indexing_error will raise\u001b[39;00m\n\u001b[0;32m   3815\u001b[0m     \u001b[38;5;66;03m#  InvalidIndexError. Otherwise we fall through and re-raise\u001b[39;00m\n\u001b[0;32m   3816\u001b[0m     \u001b[38;5;66;03m#  the TypeError.\u001b[39;00m\n\u001b[0;32m   3817\u001b[0m     \u001b[38;5;28mself\u001b[39m\u001b[38;5;241m.\u001b[39m_check_indexing_error(key)\n",
      "\u001b[1;31mKeyError\u001b[0m: 0"
     ]
    }
   ],
   "source": [
    "\n",
    "\n",
    "LabelEncoding(y)\n",
    "pca=PCA()\n",
    "pca.fit(X)\n",
    "pca.print(X)"
   ]
  },
  {
   "cell_type": "code",
   "execution_count": 123,
   "metadata": {},
   "outputs": [
    {
     "name": "stdout",
     "output_type": "stream",
     "text": [
      "Fruit: apple, Number: 1\n",
      "Fruit: banana, Number: 2\n",
      "Fruit: cherry, Number: 3\n"
     ]
    }
   ],
   "source": [
    "import numpy as np\n",
    "\n",
    "# Example arrays\n",
    "array1 = np.array([\"apple\", \"banana\", \"cherry\"])\n",
    "array2 = np.array([1, 2, 3])\n",
    "\n",
    "# Traverse using zip\n",
    "for item1, item2 in zip(array1, array2):\n",
    "    print(f\"Fruit: {item1}, Number: {item2}\")"
   ]
  }
 ],
 "metadata": {
  "kernelspec": {
   "display_name": "Python 3",
   "language": "python",
   "name": "python3"
  },
  "language_info": {
   "codemirror_mode": {
    "name": "ipython",
    "version": 3
   },
   "file_extension": ".py",
   "mimetype": "text/x-python",
   "name": "python",
   "nbconvert_exporter": "python",
   "pygments_lexer": "ipython3",
   "version": "3.12.5"
  }
 },
 "nbformat": 4,
 "nbformat_minor": 2
}
