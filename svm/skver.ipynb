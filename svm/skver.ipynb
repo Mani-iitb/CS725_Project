{
 "cells": [
  {
   "cell_type": "code",
   "execution_count": null,
   "metadata": {},
   "outputs": [
    {
     "name": "stderr",
     "output_type": "stream",
     "text": [
      "C:\\Users\\Kartik\\AppData\\Local\\Temp\\ipykernel_29360\\3669406887.py:15: SettingWithCopyWarning: \n",
      "A value is trying to be set on a copy of a slice from a DataFrame.\n",
      "Try using .loc[row_indexer,col_indexer] = value instead\n",
      "\n",
      "See the caveats in the documentation: https://pandas.pydata.org/pandas-docs/stable/user_guide/indexing.html#returning-a-view-versus-a-copy\n",
      "  df[col] = label_encoder.fit_transform(df[col])\n"
     ]
    },
    {
     "data": {
      "text/plain": [
       "array([[11],\n",
       "       [11],\n",
       "       [11],\n",
       "       ...,\n",
       "       [11],\n",
       "       [11],\n",
       "       [11]])"
      ]
     },
     "execution_count": 2,
     "metadata": {},
     "output_type": "execute_result"
    }
   ],
   "source": [
    "from sklearn.decomposition import PCA\n",
    "import pandas as pd\n",
    "import numpy as np\n",
    "from sklearn.preprocessing import LabelEncoder\n",
    "import cvxopt\n",
    "data=pd.read_csv(\"KDD10.csv\")\n",
    "data=data[data.columns[1:]]\n",
    "\n",
    "data['outcome']=data['outcome'].replace(r'\\.','',regex=True).str.strip()\n",
    "y=data[[\"outcome\"]]\n",
    "\n",
    "def LabelEncoding(df):\n",
    "    for col in df.columns:\n",
    "        if df[col].dtype == 'object':\n",
    "                label_encoder = LabelEncoder()\n",
    "                df[col] = label_encoder.fit_transform(df[col])\n",
    "X=data.drop(\"outcome\",axis=1)\n",
    "LabelEncoding(X)\n",
    "LabelEncoding(y)\n",
    "y=y.values\n",
    "y\n"
   ]
  },
  {
   "cell_type": "code",
   "execution_count": null,
   "metadata": {},
   "outputs": [
    {
     "data": {
      "text/plain": [
       "array([9.76575015e+11, 1.09164184e+09, 5.02196226e+05, 1.07664693e+05,\n",
       "       9.57080427e+03, 2.15483161e+03, 8.53681451e+02, 3.03660397e+01,\n",
       "       7.23439534e+00, 1.72168538e+00, 5.97389690e-01, 2.13030193e-01,\n",
       "       5.35814534e-02, 2.20658542e-02, 2.05122126e-02, 1.66096621e-02,\n",
       "       1.63224881e-02, 1.01520782e-02, 9.24889742e-03, 7.71645349e-03])"
      ]
     },
     "execution_count": 3,
     "metadata": {},
     "output_type": "execute_result"
    }
   ],
   "source": [
    "pca = PCA(n_components=40,svd_solver=\"covariance_eigh\")\n",
    "pca.fit(X)\n",
    "X=pca.transform(X)\n",
    "X.shape\n",
    "pca.explained_variance_"
   ]
  },
  {
   "cell_type": "code",
   "execution_count": 4,
   "metadata": {},
   "outputs": [],
   "source": [
    "\n",
    "# class SVM:\n",
    "#     def __init__(self,learning_rate=0.01,lambda_param=0.01,n_iters=1):\n",
    "#         self.learning_rate=learning_rate\n",
    "#         self.lambda_param=lambda_param\n",
    "#         self.n_iters=n_iters\n",
    "#         self.model={}\n",
    "#     def fit(self,X,y):\n",
    "#         n_samples,n_features=X.shape\n",
    "#         classes=np.unique(y)\n",
    "#         for cls in classes:\n",
    "#             y_=np.where(y==cls,1,-1).astype(int)\n",
    "#             w=np.zeros(n_features)\n",
    "#             b=0\n",
    "#             for _ in range(self.n_iters):\n",
    "#                 for indxs, x_i in enumerate(X):\n",
    "#                     condition=(y_[indxs]*(np.dot(w,x_i)-b)) >=1\n",
    "#                     if condition:\n",
    "#                         w-=self.learning_rate*(2*self.lambda_param*w)\n",
    "#                     else :\n",
    "#                         w-=self.learning_rate*((2*self.lambda_param*w)-x_i*y_[indxs])\n",
    "#                         b-=self.learning_rate*y_[indxs]\n",
    "            \n",
    "#             self.model[cls]=(w,b)\n",
    "#     def predict(self,X):\n",
    "#         decision_values={}\n",
    "        \n",
    "#         for cls,(w,b) in self.model.items():\n",
    "#             decision_values[cls]=np.dot(X,w)-b\n",
    "#         decision_values_array = np.array(list(decision_values.values()))   \n",
    "#         max_indices = np.argmax(decision_values_array, axis=0)  \n",
    "#         predicted_classes = [list(self.model.keys())[idx] for idx in max_indices]\n",
    "\n",
    "#         return predicted_classes\n",
    "            \n",
    "     "
   ]
  },
  {
   "cell_type": "code",
   "execution_count": null,
   "metadata": {},
   "outputs": [],
   "source": [
    "\n",
    "\n",
    "def linear(x, z):\n",
    "    return np.dot(x, z.T)\n",
    "\n",
    "class SVM:\n",
    "    def __init__(self, kernel=linear, C=1):\n",
    "        self.kernel = kernel\n",
    "        self.C = C\n",
    "\n",
    "    def fit(self, X, y):\n",
    "        self.y = y\n",
    "        self.X = X\n",
    "        m, n = X.shape\n",
    "\n",
    "        self.K = np.zeros((m, m))\n",
    "        for i in range(m):\n",
    "            self.K[i, :] = self.kernel(X[i, np.newaxis], self.X)\n",
    "        P = cvxopt.matrix(np.outer(y, y) * self.K)\n",
    "        q = cvxopt.matrix(-np.ones((m, 1)))\n",
    "        G = cvxopt.matrix(np.vstack((np.eye(m) * -1, np.eye(m))))\n",
    "        h = cvxopt.matrix(np.hstack((np.zeros(m), np.ones(m) * self.C)))\n",
    "        A = cvxopt.matrix(y, (1, m), \"d\")\n",
    "        b = cvxopt.matrix(np.zeros(1))\n",
    "        cvxopt.solvers.options[\"show_progress\"] = False\n",
    "        sol = cvxopt.solvers.qp(P, q, G, h, A, b)\n",
    "        self.alphas = np.array(sol[\"x\"])\n",
    "\n",
    "    def predict(self, X):\n",
    "        y_predict = np.zeros((X.shape[0]))\n",
    "        sv = self.get_parameters(self.alphas)\n",
    "\n",
    "        for i in range(X.shape[0]):\n",
    "            y_predict[i] = np.sum(\n",
    "                self.alphas[sv]\n",
    "                * self.y[sv, np.newaxis]\n",
    "                * self.kernel(X[i], self.X[sv])[:, np.newaxis]\n",
    "            )\n",
    "\n",
    "        return np.sign(y_predict + self.b)\n",
    "\n",
    "    def get_parameters(self, alphas):\n",
    "        threshold = 1e-5\n",
    "\n",
    "        sv = ((alphas > threshold) * (alphas < self.C)).flatten()\n",
    "        self.w = np.dot(X[sv].T, alphas[sv] * self.y[sv, np.newaxis])\n",
    "        self.b = np.mean(\n",
    "            self.y[sv, np.newaxis]\n",
    "            - self.alphas[sv] * self.y[sv, np.newaxis] * self.K[sv, sv][:, np.newaxis]\n",
    "        )\n",
    "        return sv\n"
   ]
  },
  {
   "cell_type": "code",
   "execution_count": null,
   "metadata": {},
   "outputs": [],
   "source": [
    "\n",
    "y=y.ravel()\n",
    "split=int(0.1*len(X))\n",
    "X_train=X[:split]\n",
    "X_test=X[split:]\n",
    "y_train=y[:split]\n",
    "y_test=y[split:]\n",
    "\n",
    "from sklearn.svm import SVC\n",
    "svm_model = SVC(kernel='linear')\n",
    "svm_model.fit(X_train,y_train)\n",
    "y_predict=svm_model.predict(X_train)\n",
    "\n"
   ]
  },
  {
   "cell_type": "code",
   "execution_count": null,
   "metadata": {},
   "outputs": [
    {
     "data": {
      "text/plain": [
       "(494021,)"
      ]
     },
     "execution_count": 6,
     "metadata": {},
     "output_type": "execute_result"
    }
   ],
   "source": [
    "y.shape"
   ]
  }
 ],
 "metadata": {
  "kernelspec": {
   "display_name": "Python 3",
   "language": "python",
   "name": "python3"
  },
  "language_info": {
   "codemirror_mode": {
    "name": "ipython",
    "version": 3
   },
   "file_extension": ".py",
   "mimetype": "text/x-python",
   "name": "python",
   "nbconvert_exporter": "python",
   "pygments_lexer": "ipython3",
   "version": "3.12.5"
  }
 },
 "nbformat": 4,
 "nbformat_minor": 2
}
